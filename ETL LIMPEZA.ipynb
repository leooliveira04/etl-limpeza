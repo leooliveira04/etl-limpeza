{
 "cells": [
  {
   "cell_type": "code",
   "execution_count": 1,
   "id": "dcacd736-a09d-4483-a2cb-f898b7420166",
   "metadata": {},
   "outputs": [],
   "source": [
    "#Aqui são importadas as bibliotecas\n",
    "import pandas as pd\n",
    "import warnings\n",
    "warnings.filterwarnings('ignore')"
   ]
  },
  {
   "cell_type": "code",
   "execution_count": 5,
   "id": "b5b63114-0c83-4a57-8d35-4304da7fa21c",
   "metadata": {},
   "outputs": [],
   "source": [
    "#Importação de uma base de dados (satisfação dos aeroportos no brasil)\n",
    "df = pd.read_csv('pesquisa-de-satisfacao-do-passageiro-1-tri-2023_.csv', sep=';',header=1)"
   ]
  },
  {
   "cell_type": "code",
   "execution_count": 6,
   "id": "faeb58db-3274-48cd-b084-2a2cc8307f43",
   "metadata": {},
   "outputs": [
    {
     "name": "stdout",
     "output_type": "stream",
     "text": [
      "<class 'pandas.core.frame.DataFrame'>\n",
      "RangeIndex: 8419 entries, 0 to 8418\n",
      "Data columns (total 98 columns):\n",
      " #   Column                                                              Non-Null Count  Dtype  \n",
      "---  ------                                                              --------------  -----  \n",
      " 0   CHAVE                                                               8419 non-null   int64  \n",
      " 1   PROCESSO                                                            8419 non-null   object \n",
      " 2   AEROPORTO                                                           8419 non-null   object \n",
      " 3   DATA                                                                8419 non-null   object \n",
      " 4   MÊS                                                                 8419 non-null   object \n",
      " 5   INÍCIO COLETA                                                       8419 non-null   object \n",
      " 6   FIM COLETA                                                          8419 non-null   object \n",
      " 7   TERMINAL                                                            8419 non-null   int64  \n",
      " 8   PORTÃO                                                              4136 non-null   object \n",
      " 9   TIPO DE VOO                                                         8419 non-null   object \n",
      " 10  CIA AÉREA                                                           8419 non-null   object \n",
      " 11  VOO                                                                 4228 non-null   object \n",
      " 12  CONEXÃO                                                             4274 non-null   object \n",
      " 13  AQUISIÇÃO DA PASSAGEM                                               4274 non-null   object \n",
      " 14  MEIO DE AQUISIÇÃO DA PASSAGEM                                       2084 non-null   object \n",
      " 15  MEIO DE  TRANSPORTE PARA O AEROPORTO                                2855 non-null   object \n",
      " 16  POSSUI DEFICIÊNCIA                                                  8419 non-null   object \n",
      " 17  UTILIZA RECURSO ASSISTIVO                                           127 non-null    object \n",
      " 18  SOLICITOU ASSISTÊNCIA ESPECIAL                                      127 non-null    object \n",
      " 19  FORMA DE DESEMBARQUE UTILIZADA                                      63 non-null     object \n",
      " 20  AVALIAÇÃO DO MÉTODO DE DESEMBARQUE                                  63 non-null     float64\n",
      " 21  UTILIZOU O ESTACIONAMENTO                                           542 non-null    object \n",
      " 22  FACILIDADE DE DESEMBARQUE NO MEIO-FIO                               2855 non-null   object \n",
      " 23  OPÇÕES DE TRANSPORTE ATÉ O AEROPORTO                                2313 non-null   object \n",
      " 24  FORMA DE CHECK-IN                                                   2855 non-null   object \n",
      " 25  PROCESSO DE CHECK IN                                                1108 non-null   object \n",
      " 26  TEMPO DE ESPERA NA FILA                                             126 non-null    float64\n",
      " 27  ORGANIZAÇÃO DAS FILAS                                               126 non-null    object \n",
      " 28  QUANTIDADE DE TOTENS AA                                             39 non-null     float64\n",
      " 29  QUANTIDADE DE BALCÕES                                               96 non-null     object \n",
      " 30  CORDIALIDADE DOS FUNCIONÁRIOS                                       96 non-null     object \n",
      " 31  TEMPO DE ATENDIMENTO                                                96 non-null     object \n",
      " 32  PROCESSO DE AQUISIÇÃO DA PASSAGEM                                   2084 non-null   object \n",
      " 33  ATENDIMENTO DA CIA. AÉREA                                           15 non-null     float64\n",
      " 34  PROCESSO DE INSPEÇÃO DE SEGURANÇA                                   2855 non-null   object \n",
      " 35  TEMPO DE ESPERA EM FILA                                             150 non-null    float64\n",
      " 36  ORGANIZAÇÃO DAS FILAS2                                              150 non-null    object \n",
      " 37  ATENDIMENTO DOS FUNCIONÁRIOS                                        150 non-null    float64\n",
      " 38  CONTROLE MIGRATÓRIO                                                 605 non-null    object \n",
      " 39  TEMPO DE ESPERA EM FILA3                                            22 non-null     float64\n",
      " 40  ORGANIZAÇÃO DAS FILAS4                                              22 non-null     float64\n",
      " 41  ATENDIMENTO DOS FUNCIONÁRIOS5                                       22 non-null     float64\n",
      " 42  QUANTIDADE DE GUICHÊS                                               22 non-null     object \n",
      " 43  CONTROLE ADUANEIRO                                                  256 non-null    object \n",
      " 44  TEMPO DE ESPERA EM FILA2                                            6 non-null      float64\n",
      " 45  ORGANIZAÇÃO DAS FILAS3                                              6 non-null      float64\n",
      " 46  ATENDIMENTO DOS FUNCIONÁRIOS4                                       6 non-null      float64\n",
      " 47  ESTABELECIMENTOS DE ALIMENTAÇÃO                                     1809 non-null   object \n",
      " 48  QUANTIDADE DE ESTABELECIMENTOS DE ALIMENTAÇÃO                       420 non-null    object \n",
      " 49  QUALIDADE E VARIEDADE DE OPÇÕES DE ESTABELECIMENTOS DE ALIMENTAÇÃO  420 non-null    object \n",
      " 50  RELAÇÃO PREÇO x QUALIDADE DOS ESTABELECIMENTOS DE ALIMENTAÇÃO       420 non-null    object \n",
      " 51  ESTABELECIMENTOS COMERCIAIS                                         738 non-null    float64\n",
      " 52  QUANTIDADE DE ESTABELECIMENTOS COMERCIAIS                           92 non-null     float64\n",
      " 53  QUALIDADE E VARIEDADE DE OPÇÕES DE ESTABELECIMENTOS COMERCIAIS      92 non-null     object \n",
      " 54  RELAÇÃO PREÇO x QUALIDADE DOS ESTABELECIMENTOS COMERCIAIS           92 non-null     float64\n",
      " 55  ESTACIONAMENTO                                                      542 non-null    object \n",
      " 56  QUALIDADE DAS INSTALAÇÕES DE ESTACIONAMENTO                         98 non-null     object \n",
      " 57  FACILIDADE PARA ENCONTRAR VAGAS                                     98 non-null     object \n",
      " 58  FACILIDADE DE ACESSO AO TERMINAL                                    98 non-null     float64\n",
      " 59  RELAÇÃO CUSTO X BENEFÍCIO                                           98 non-null     object \n",
      " 60  LOCALIZAÇÃO E DESLOCAMENTO                                          8418 non-null   object \n",
      " 61  SINALIZAÇÃO                                                         967 non-null    object \n",
      " 62  DISPONIBILIDADE DE PAINÉIS DE INFORMAÇÕES DE VOO                    531 non-null    object \n",
      " 63  ACESSIBILIDADE DO TERMINAL                                          24 non-null     float64\n",
      " 64  CONFORTO DA SALA DE EMBARQUE                                        4274 non-null   object \n",
      " 65  CONFORTO TÉRMICO                                                    912 non-null    object \n",
      " 66  CONFORTO ACÚSTICO                                                   912 non-null    object \n",
      " 67  DISPONIBILIDADE DE ASSENTOS                                         912 non-null    object \n",
      " 68  DISPONIBILIDADE DE ASSENTOS RESERVADOS                              64 non-null     object \n",
      " 69  DISPONIBILIDADE DE TOMADAS                                          4274 non-null   object \n",
      " 70  INTERNET DISPONIBILIZADA PELO AEROPORTO                             1163 non-null   object \n",
      " 71  VELOCIDADE DE CONEXÃO                                               133 non-null    object \n",
      " 72  FACILIDADE DE ACESSO À REDE                                         133 non-null    object \n",
      " 73  SANITÁRIOS                                                          2945 non-null   object \n",
      " 74  QUANTIDADE DE BANHEIROS                                             508 non-null    object \n",
      " 75  LIMPEZA DOS BANHEIROS                                               508 non-null    object \n",
      " 76  MANUTENÇÃO GERAL DOS SANITÁRIOS                                     508 non-null    object \n",
      " 77  LIMPEZA GERAL DO AEROPORTO                                          4274 non-null   object \n",
      " 78  PROCESSO DE RESTITUIÇÃO DE BAGAGENS                                 2925 non-null   object \n",
      " 79  FACILIDADE DE IDENTIFICAÇÃO DA ESTEIRA DE RESTITUIÇÃO               357 non-null    object \n",
      " 80  TEMPO DE RESTITUIÇÃO                                                357 non-null    object \n",
      " 81  INTEGRIDADE DA BAGAGEM                                              357 non-null    object \n",
      " 82  ATENDIMENTO DA CIA. AÉREA2                                          16 non-null     float64\n",
      " 83  SATISFAÇÃO GERAL                                                    8419 non-null   object \n",
      " 84  MOTIVO                                                              630 non-null    object \n",
      " 85  NACIONALIDADE                                                       8419 non-null   object \n",
      " 86  GÊNERO                                                              8419 non-null   object \n",
      " 87  IDADE                                                               4274 non-null   object \n",
      " 88  ESCOLARIDADE                                                        4274 non-null   object \n",
      " 89  RENDA FAMILIAR                                                      4274 non-null   object \n",
      " 90  VIAJANDO SOZINHO                                                    4274 non-null   object \n",
      " 91  NÚMERO DE ACOMPANHANTES                                             1737 non-null   object \n",
      " 92  MOTIVO DA VIAGEM                                                    4274 non-null   object \n",
      " 93  QUANTIDADE DE VIAGENS NOS ÚLTIMOS 12 MESES                          8419 non-null   object \n",
      " 94  JÁ EMBARCOU/DESEMBARCOU ANTES NO AEROPORTO                          8419 non-null   object \n",
      " 95  ANTECEDÊNCIA                                                        2855 non-null   object \n",
      " 96  TEMPO DE ESPERA                                                     1420 non-null   object \n",
      " 97  COMENTÁRIOS ADICIONAIS                                              8418 non-null   object \n",
      "dtypes: float64(18), int64(2), object(78)\n",
      "memory usage: 6.3+ MB\n"
     ]
    }
   ],
   "source": [
    "#Verificação de como está a base de dados\n",
    "df.info()"
   ]
  },
  {
   "cell_type": "code",
   "execution_count": 7,
   "id": "31af1bfa-fb75-49b8-a0a6-9777d95b147f",
   "metadata": {},
   "outputs": [
    {
     "name": "stdout",
     "output_type": "stream",
     "text": [
      "4.0    394\n",
      "3.0    136\n",
      "5.0     74\n",
      "2.0     12\n",
      "1.0      5\n",
      "Name: SATISFAÇÃO GERAL, dtype: int64\n"
     ]
    }
   ],
   "source": [
    "#Para não pegar o conjunto de dados inteiro, selecinei apenas algumas colunas\n",
    "features = ['SATISFAÇÃO GERAL','SANITÁRIOS', 'DISPONIBILIDADE DE ASSENTOS','CONFORTO TÉRMICO','CONFORTO ACÚSTICO']\n",
    "\n",
    "df1_apr = df[features]\n",
    "df_apr = df1_apr\n",
    "\n",
    "for x in df_apr.columns:\n",
    "    df_apr = df_apr.drop(df_apr.loc[(df_apr[x] == \"NS\") | (df_apr[x] == \"NS/NR\") | (df_apr[x] == \"Não Informou\") | (df_apr[x].isna())].index , axis=0)\n",
    "    df_apr[x] = df_apr[x].astype(float)\n",
    "    df_apr.reset_index(drop=True, inplace=True)\n",
    "\n",
    "\n",
    "print(df_apr['SATISFAÇÃO GERAL'].value_counts())\n",
    "df_apr.to_csv(f'pesquisa_2023.csv', index = False)\n"
   ]
  },
  {
   "cell_type": "code",
   "execution_count": null,
   "id": "e486908c-9142-4c5c-80dd-b0c68bcd11de",
   "metadata": {},
   "outputs": [],
   "source": []
  }
 ],
 "metadata": {
  "kernelspec": {
   "display_name": "Python 3 (ipykernel)",
   "language": "python",
   "name": "python3"
  },
  "language_info": {
   "codemirror_mode": {
    "name": "ipython",
    "version": 3
   },
   "file_extension": ".py",
   "mimetype": "text/x-python",
   "name": "python",
   "nbconvert_exporter": "python",
   "pygments_lexer": "ipython3",
   "version": "3.10.9"
  }
 },
 "nbformat": 4,
 "nbformat_minor": 5
}
